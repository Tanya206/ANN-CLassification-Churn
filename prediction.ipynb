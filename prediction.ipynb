{
 "cells": [
  {
   "cell_type": "code",
   "execution_count": null,
   "metadata": {},
   "outputs": [],
   "source": [
    "# import tensorflow\n",
    "# from tensorflow.keras.models import load_model\n",
    "# import pickle\n",
    "# import pandas as pd\n",
    "# import numpy as np \n",
    "\n",
    "# ### Load the trained model, scalar model, onehot \n",
    "# model = load_model('model.h5')\n",
    "\n",
    "# ##load the encoder and scalar\n",
    "# with open('onehot_encoder_geo.pkl','rb') as file:\n",
    "#     label_encoder_geo = pickle.load(file)\n",
    "# with open('sscaler.pkl','rb') as file:\n",
    "#     scalar = pickle.load(file)\n",
    "\n"
   ]
  },
  {
   "cell_type": "code",
   "execution_count": null,
   "metadata": {},
   "outputs": [],
   "source": [
    "# #example input data\n",
    "\n",
    "# input_data = {\n",
    "#     'CreditScore': 600,\n",
    "#     'Geography': 'France',\n",
    "#     'Gender':'Male',\n",
    "#     'Age': 40,\n",
    "#     'Tenure': 3,\n",
    "#     'Balance': 60000,\n",
    "#     'NumOfProducts': 2,\n",
    "#     'HasCrCard':1\n",
    "#     'IsActiveMemeber': 1,\n",
    "#     'Estimated_salary': 50000\n",
    "\n",
    "# }\n",
    "# ## Now we have to convert all the values to numerical values and scale them down.\n"
   ]
  },
  {
   "cell_type": "code",
   "execution_count": null,
   "metadata": {},
   "outputs": [],
   "source": [
    "# #one hot encode 'Geography'\n",
    "# geo_encoded = label_encoder_geo.transform([[input_data['Geography']]]).toarray()\n",
    "# geo_encoded_df = pd.DataFrame(geo_encoded, columns= label_encoder_geo.get_feature_names_out(['Geography']))\n",
    "\n",
    "# #dataframe\n",
    "# input_df = pd.DataFrame([input_data])\n",
    "# input_df\n",
    "\n",
    "# #combine one-hot-encoded columns with input data\n",
    "# input_data = pd.concat([input_df.reset_index(drop=True), geo_encoded_df], axis = 1)\n",
    "# input_data\n",
    " \n",
    "\n",
    "# #encode categorical variables\n",
    "# input_df['Gender']= label_encoder_gender.transform(input_df['Gender'])\n",
    "# input_df\n",
    "\n",
    "# ##concatenation with onehot encoded data\n",
    "# input_df = pd.concat([input_df.drop('Geography', axis=1), geo_encoded_df])\n",
    "# input_df\n",
    "\n",
    "# ## scaling the data\n",
    "# input_scaled = scalar.transform(input_df)\n",
    "# input_scaled\n",
    "\n",
    "# ##predict \n",
    "# prediction = model.predict(input_scaled)\n",
    "# prediction_proba = prediction[0][0]\n",
    "\n",
    "# if prediction_proba > 0.5:\n",
    "#     print('customer is likely to churn')\n",
    "# else:\n",
    "#     print('The customer is not likely to churn')\n",
    "    "
   ]
  },
  {
   "cell_type": "markdown",
   "metadata": {},
   "source": [
    "## Predictions Using PyTorch"
   ]
  },
  {
   "cell_type": "code",
   "execution_count": 14,
   "metadata": {},
   "outputs": [
    {
     "name": "stdout",
     "output_type": "stream",
     "text": [
      "Customer is not likely to churn\n"
     ]
    },
    {
     "name": "stderr",
     "output_type": "stream",
     "text": [
      "C:\\Users\\tanya\\AppData\\Local\\Temp\\ipykernel_742364\\1628504336.py:26: FutureWarning: You are using `torch.load` with `weights_only=False` (the current default value), which uses the default pickle module implicitly. It is possible to construct malicious pickle data which will execute arbitrary code during unpickling (See https://github.com/pytorch/pytorch/blob/main/SECURITY.md#untrusted-models for more details). In a future release, the default value for `weights_only` will be flipped to `True`. This limits the functions that could be executed during unpickling. Arbitrary objects will no longer be allowed to be loaded via this mode unless they are explicitly allowlisted by the user via `torch.serialization.add_safe_globals`. We recommend you start setting `weights_only=True` for any use case where you don't have full control of the loaded file. Please open an issue on GitHub for any issues related to this experimental feature.\n",
      "  model.load_state_dict(torch.load('model.pth'))\n",
      "c:\\Users\\tanya\\Documents\\KrishNaikNLP\\ANN Project\\venv\\Lib\\site-packages\\sklearn\\base.py:493: UserWarning: X does not have valid feature names, but OneHotEncoder was fitted with feature names\n",
      "  warnings.warn(\n"
     ]
    }
   ],
   "source": [
    "import torch\n",
    "import torch.nn as nn\n",
    "import pickle\n",
    "import pandas as pd\n",
    "import numpy as np\n",
    "from model import ANNModel\n",
    "\n",
    "# class ANNModel(nn.Module):\n",
    "#     def __init__(self, input_size):\n",
    "#         super(ANNModel, self).__init__()\n",
    "#         self.fc1 = nn.Linear(input_size, 64)\n",
    "#         self.relu = nn.ReLU()\n",
    "#         self.fc2 = nn.Linear(64, 32)\n",
    "#         self.fc3 = nn.Linear(32,1)\n",
    "#         self.sigmoid = nn.Sigmoid()\n",
    "\n",
    "#     def forward(self, x):\n",
    "#         x = self.relu(self.fc1(x))\n",
    "#         x = self.relu(self.fc2(x))\n",
    "#         x = self.sigmoid(self.fc3(x))\n",
    "\n",
    "#         return x\n",
    "\n",
    "#load the trained model weights\n",
    "model = ANNModel(input_size=12) #input size should match the number of features\n",
    "model.load_state_dict(torch.load('model.pth'))\n",
    "model.eval() #set the model evaluation function\n",
    "\n",
    "#load the encoders and scalars\n",
    "\n",
    "with open('onehot_encoder_geo.pkl', 'rb') as  file:\n",
    "    onehot_encoder_geo = pickle.load(file)\n",
    "with open('label_encoder_gender.pkl', 'rb') as file:\n",
    "    label_encoder_gender = pickle.load(file)\n",
    "with open('sscaler.pkl', 'rb') as file:\n",
    "    scalar = pickle.load(file)\n",
    "\n",
    "input_data = {\n",
    "    'CreditScore': 600,\n",
    "    'Geography': 'France',\n",
    "    'Gender': 'Male',\n",
    "    'Age': 40,\n",
    "    'Tenure': 3,\n",
    "    'Balance': 60000,\n",
    "    'NumOfProducts': 2,\n",
    "    'HasCrCard': 1,\n",
    "    'IsActiveMember': 1,\n",
    "    'EstimatedSalary': 50000\n",
    "}\n",
    "\n",
    "#convert input data into dataframe\n",
    "input_df = pd.DataFrame([input_data])\n",
    "\n",
    "#one hot encode geography\n",
    "geo_encoded = onehot_encoder_geo.transform([[input_data['Geography']]]).toarray()\n",
    "geo_encoded_df = pd.DataFrame(geo_encoded, columns = onehot_encoder_geo.get_feature_names_out(['Geography']))\n",
    "\n",
    "#encode categorical variables\n",
    "input_df['Gender'] = label_encoder_gender.transform(input_df['Gender'])\n",
    "\n",
    "\n",
    "# Drop the 'Geography' column and concatenate the one-hot-encoded columns\n",
    "input_df = pd.concat([input_df.drop('Geography', axis=1).reset_index(drop=True), geo_encoded_df], axis=1)\n",
    "\n",
    "#scale the input data\n",
    "input_scaled = scalar.transform(input_df)\n",
    "\n",
    "#convert the input data to a PyTorch tensor\n",
    "input_tensor = torch.tensor(input_scaled, dtype= torch.float32)\n",
    "\n",
    "#Make Prediction\n",
    "with torch.no_grad():\n",
    "    prediction = model(input_tensor)\n",
    "    prediction_proba = prediction.item() #extract probability from tensor\n",
    "\n",
    "if prediction_proba > 0.5:\n",
    "    print('Customer is likely to churn')\n",
    "else:\n",
    "    print('Customer is not likely to churn')\n",
    "\n"
   ]
  },
  {
   "cell_type": "code",
   "execution_count": null,
   "metadata": {},
   "outputs": [],
   "source": []
  },
  {
   "cell_type": "code",
   "execution_count": null,
   "metadata": {},
   "outputs": [],
   "source": []
  },
  {
   "cell_type": "code",
   "execution_count": null,
   "metadata": {},
   "outputs": [],
   "source": []
  }
 ],
 "metadata": {
  "kernelspec": {
   "display_name": "Python 3",
   "language": "python",
   "name": "python3"
  },
  "language_info": {
   "codemirror_mode": {
    "name": "ipython",
    "version": 3
   },
   "file_extension": ".py",
   "mimetype": "text/x-python",
   "name": "python",
   "nbconvert_exporter": "python",
   "pygments_lexer": "ipython3",
   "version": "3.11.0"
  }
 },
 "nbformat": 4,
 "nbformat_minor": 2
}
